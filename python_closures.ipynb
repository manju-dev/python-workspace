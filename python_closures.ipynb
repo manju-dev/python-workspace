{
  "nbformat": 4,
  "nbformat_minor": 0,
  "metadata": {
    "colab": {
      "name": "python-closures.ipynb",
      "provenance": [],
      "collapsed_sections": []
    },
    "kernelspec": {
      "name": "python3",
      "display_name": "Python 3"
    },
    "language_info": {
      "name": "python"
    }
  },
  "cells": [
    {
      "cell_type": "markdown",
      "metadata": {
        "id": "cyNZcx5RZEYI"
      },
      "source": [
        "# Python - Closures\n",
        "\n",
        "**Reference**\n",
        "\n",
        "[RealPython - Python Inner Functions: What Are They Good For?](https://realpython.com/inner-functions-what-are-they-good-for/#retaining-state-with-inner-functions-closures)"
      ]
    },
    {
      "cell_type": "markdown",
      "metadata": {
        "id": "uwJXmGmpUWoV"
      },
      "source": [
        "## Example 1"
      ]
    },
    {
      "cell_type": "code",
      "metadata": {
        "id": "QlI4b-KzH-IX"
      },
      "source": [
        "# simple closure example - function to calculate rimnder\n",
        "\n",
        "def reminder_right(val):\n",
        "    def get_reminder(num):\n",
        "        return num % val\n",
        "    return get_reminder"
      ],
      "execution_count": 3,
      "outputs": []
    },
    {
      "cell_type": "code",
      "metadata": {
        "colab": {
          "base_uri": "https://localhost:8080/"
        },
        "id": "lu9XBj7BXgM8",
        "outputId": "e78a7884-4a6e-4987-f2e7-f30ddce21660"
      },
      "source": [
        "reminder_by_4 = reminder_right(4)\n",
        "print(\"3 % 4 => \", reminder_by_4(3))\n",
        "print(\"5 % 4 => \", reminder_by_4(5))\n",
        "print(\"11 % 4 => \", reminder_by_4(11))"
      ],
      "execution_count": 16,
      "outputs": [
        {
          "output_type": "stream",
          "text": [
            "3 % 4 =>  3\n",
            "5 % 4 =>  1\n",
            "11 % 4 =>  3\n"
          ],
          "name": "stdout"
        }
      ]
    },
    {
      "cell_type": "code",
      "metadata": {
        "colab": {
          "base_uri": "https://localhost:8080/"
        },
        "id": "SU6eCOvjXr5E",
        "outputId": "e093db00-194e-4998-f984-864a314f1feb"
      },
      "source": [
        "reminder_by_7 = reminder_right(7)\n",
        "print(\"3 % 7 => \", reminder_by_7(3))\n",
        "print(\"11 % 7 => \", reminder_by_7(11))\n",
        "print(\"45 % 7 => \", reminder_by_7(45))"
      ],
      "execution_count": 19,
      "outputs": [
        {
          "output_type": "stream",
          "text": [
            "3 % 7 =>  3\n",
            "11 % 7 =>  4\n",
            "45 % 7 =>  3\n"
          ],
          "name": "stdout"
        }
      ]
    },
    {
      "cell_type": "markdown",
      "metadata": {
        "id": "Mtr4tC9qYHvl"
      },
      "source": [
        "## Example 2"
      ]
    },
    {
      "cell_type": "code",
      "metadata": {
        "id": "pXgM9oKkYJoU"
      },
      "source": [
        "# Closure example - function to calculate running mean over a sample\n",
        "# function with non static closure\n",
        "\n",
        "def sample_mean():\n",
        "    sample = []\n",
        "    \n",
        "    def get_sample():\n",
        "        return sample\n",
        "    \n",
        "    def reset_sample():\n",
        "        nonlocal sample\n",
        "        sample = []\n",
        "    \n",
        "    def mean(number):\n",
        "        sample.append(number)\n",
        "        return sum(sample) / len(sample)\n",
        "    \n",
        "    # Attach inner functions\n",
        "    mean.get_sample = get_sample\n",
        "    mean.reset_sample = reset_sample\n",
        "    \n",
        "    return mean"
      ],
      "execution_count": 71,
      "outputs": []
    },
    {
      "cell_type": "code",
      "metadata": {
        "id": "_3xILBg6cSZ0"
      },
      "source": [
        "running_mean = sample_mean()"
      ],
      "execution_count": 72,
      "outputs": []
    },
    {
      "cell_type": "code",
      "metadata": {
        "colab": {
          "base_uri": "https://localhost:8080/"
        },
        "id": "0hmbMLPrcpWl",
        "outputId": "20c67f6e-acc9-4dac-a01a-d0a76fddac36"
      },
      "source": [
        "# compute running mean over 5, 6 and 7\n",
        "print(running_mean(5))\n",
        "print(running_mean(6))\n",
        "print(running_mean(7))"
      ],
      "execution_count": 77,
      "outputs": [
        {
          "output_type": "stream",
          "text": [
            "5.0\n",
            "5.5\n",
            "6.0\n"
          ],
          "name": "stdout"
        }
      ]
    },
    {
      "cell_type": "code",
      "metadata": {
        "colab": {
          "base_uri": "https://localhost:8080/"
        },
        "id": "3oNpUkCoaltC",
        "outputId": "be342cc6-f34d-4474-ceb8-7e4f1766382e"
      },
      "source": [
        "# samples collected\n",
        "running_mean.get_sample()"
      ],
      "execution_count": 74,
      "outputs": [
        {
          "output_type": "execute_result",
          "data": {
            "text/plain": [
              "[5, 6, 7]"
            ]
          },
          "metadata": {
            "tags": []
          },
          "execution_count": 74
        }
      ]
    },
    {
      "cell_type": "code",
      "metadata": {
        "id": "3ND_NCBVasgy"
      },
      "source": [
        "# reset samples\n",
        "running_mean.reset_sample()"
      ],
      "execution_count": 75,
      "outputs": []
    },
    {
      "cell_type": "code",
      "metadata": {
        "colab": {
          "base_uri": "https://localhost:8080/"
        },
        "id": "Lus14oYTctjC",
        "outputId": "7521d67e-bd47-45b8-f278-55176c1bf957"
      },
      "source": [
        "running_mean.get_sample()"
      ],
      "execution_count": 76,
      "outputs": [
        {
          "output_type": "execute_result",
          "data": {
            "text/plain": [
              "[]"
            ]
          },
          "metadata": {
            "tags": []
          },
          "execution_count": 76
        }
      ]
    },
    {
      "cell_type": "code",
      "metadata": {
        "colab": {
          "base_uri": "https://localhost:8080/"
        },
        "id": "qvrSY1sDb07E",
        "outputId": "cd49c8a7-cabe-4d52-abf9-c241851ee7ff"
      },
      "source": [
        "print(running_mean(8))\n",
        "print(running_mean(9))\n",
        "print(running_mean(10))"
      ],
      "execution_count": 69,
      "outputs": [
        {
          "output_type": "stream",
          "text": [
            "9.25\n",
            "9.2\n",
            "9.333333333333334\n"
          ],
          "name": "stdout"
        }
      ]
    },
    {
      "cell_type": "code",
      "metadata": {
        "colab": {
          "base_uri": "https://localhost:8080/"
        },
        "id": "lZ4x9kdicQ03",
        "outputId": "e40beb74-b9fc-4542-8745-0233d46004af"
      },
      "source": [
        "running_mean.get_sample()"
      ],
      "execution_count": 70,
      "outputs": [
        {
          "output_type": "execute_result",
          "data": {
            "text/plain": [
              "[8, 9, 12, 8, 9, 10]"
            ]
          },
          "metadata": {
            "tags": []
          },
          "execution_count": 70
        }
      ]
    }
  ]
}